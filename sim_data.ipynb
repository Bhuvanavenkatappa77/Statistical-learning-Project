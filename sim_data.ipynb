{
 "cells": [
  {
   "cell_type": "code",
   "execution_count": 57,
   "metadata": {},
   "outputs": [],
   "source": [
    "import numpy as np\n",
    "import pandas as pd\n",
    "import seaborn as sns\n",
    "import matplotlib.pyplot as plt\n",
    "from mpl_toolkits.mplot3d import Axes3D\n",
    "from sklearn.neighbors import KNeighborsClassifier\n",
    "from sklearn.model_selection import train_test_split\n",
    "from sklearn.metrics import accuracy_score, confusion_matrix\n",
    "from sklearn.preprocessing import MinMaxScaler\n",
    "from sklearn.metrics import classification_report\n",
    "import seaborn as sn\n",
    "sn.set(style='whitegrid')"
   ]
  },
  {
   "cell_type": "code",
   "execution_count": 58,
   "metadata": {},
   "outputs": [],
   "source": [
    "#simulating the data\n",
    "k = 100;\n",
    "feature_count = 10; \n",
    "class_count = 3\n",
    "\n",
    "total_feature_count = 10;\n",
    "p1_feature_count = 3; \n",
    "p2_feature_count = total_feature_count - p1_feature_count;\n",
    "\n",
    "variance = 2;\n",
    "\n",
    "class_array = np.random.randint(class_count, size=k);\n",
    "\n",
    "covariance = variance*np.ones(k)\n",
    "mean = np.zeros(p2_feature_count,)"
   ]
  },
  {
   "cell_type": "code",
   "execution_count": 59,
   "metadata": {},
   "outputs": [],
   "source": [
    "\n",
    "size_random = (k,1)\n",
    "\n",
    "rand_array = np.zeros((k, p2_feature_count));\n",
    "\n",
    "for i in range(len(mean)):\n",
    "    mean_sub = mean[i];\n",
    "    small_arry = np.random.normal(loc=mean_sub, scale=np.sqrt(variance), size=size_random)\n",
    "    rand_array[:,i] = small_arry.reshape(k,)"
   ]
  },
  {
   "cell_type": "code",
   "execution_count": 60,
   "metadata": {},
   "outputs": [],
   "source": [
    "#randomly creating samples\n",
    "feature_df = pd.get_dummies(class_array)"
   ]
  },
  {
   "cell_type": "code",
   "execution_count": 61,
   "metadata": {},
   "outputs": [
    {
     "data": {
      "text/html": [
       "<div>\n",
       "<style scoped>\n",
       "    .dataframe tbody tr th:only-of-type {\n",
       "        vertical-align: middle;\n",
       "    }\n",
       "\n",
       "    .dataframe tbody tr th {\n",
       "        vertical-align: top;\n",
       "    }\n",
       "\n",
       "    .dataframe thead th {\n",
       "        text-align: right;\n",
       "    }\n",
       "</style>\n",
       "<table border=\"1\" class=\"dataframe\">\n",
       "  <thead>\n",
       "    <tr style=\"text-align: right;\">\n",
       "      <th></th>\n",
       "      <th>0</th>\n",
       "      <th>1</th>\n",
       "      <th>2</th>\n",
       "    </tr>\n",
       "  </thead>\n",
       "  <tbody>\n",
       "    <tr>\n",
       "      <th>0</th>\n",
       "      <td>0</td>\n",
       "      <td>0</td>\n",
       "      <td>1</td>\n",
       "    </tr>\n",
       "    <tr>\n",
       "      <th>1</th>\n",
       "      <td>0</td>\n",
       "      <td>0</td>\n",
       "      <td>1</td>\n",
       "    </tr>\n",
       "    <tr>\n",
       "      <th>2</th>\n",
       "      <td>0</td>\n",
       "      <td>0</td>\n",
       "      <td>1</td>\n",
       "    </tr>\n",
       "    <tr>\n",
       "      <th>3</th>\n",
       "      <td>1</td>\n",
       "      <td>0</td>\n",
       "      <td>0</td>\n",
       "    </tr>\n",
       "    <tr>\n",
       "      <th>4</th>\n",
       "      <td>0</td>\n",
       "      <td>1</td>\n",
       "      <td>0</td>\n",
       "    </tr>\n",
       "    <tr>\n",
       "      <th>...</th>\n",
       "      <td>...</td>\n",
       "      <td>...</td>\n",
       "      <td>...</td>\n",
       "    </tr>\n",
       "    <tr>\n",
       "      <th>95</th>\n",
       "      <td>0</td>\n",
       "      <td>0</td>\n",
       "      <td>1</td>\n",
       "    </tr>\n",
       "    <tr>\n",
       "      <th>96</th>\n",
       "      <td>1</td>\n",
       "      <td>0</td>\n",
       "      <td>0</td>\n",
       "    </tr>\n",
       "    <tr>\n",
       "      <th>97</th>\n",
       "      <td>0</td>\n",
       "      <td>1</td>\n",
       "      <td>0</td>\n",
       "    </tr>\n",
       "    <tr>\n",
       "      <th>98</th>\n",
       "      <td>0</td>\n",
       "      <td>0</td>\n",
       "      <td>1</td>\n",
       "    </tr>\n",
       "    <tr>\n",
       "      <th>99</th>\n",
       "      <td>0</td>\n",
       "      <td>1</td>\n",
       "      <td>0</td>\n",
       "    </tr>\n",
       "  </tbody>\n",
       "</table>\n",
       "<p>100 rows × 3 columns</p>\n",
       "</div>"
      ],
      "text/plain": [
       "    0  1  2\n",
       "0   0  0  1\n",
       "1   0  0  1\n",
       "2   0  0  1\n",
       "3   1  0  0\n",
       "4   0  1  0\n",
       ".. .. .. ..\n",
       "95  0  0  1\n",
       "96  1  0  0\n",
       "97  0  1  0\n",
       "98  0  0  1\n",
       "99  0  1  0\n",
       "\n",
       "[100 rows x 3 columns]"
      ]
     },
     "execution_count": 61,
     "metadata": {},
     "output_type": "execute_result"
    }
   ],
   "source": [
    "feature_df"
   ]
  },
  {
   "cell_type": "code",
   "execution_count": 62,
   "metadata": {},
   "outputs": [
    {
     "data": {
      "text/html": [
       "<div>\n",
       "<style scoped>\n",
       "    .dataframe tbody tr th:only-of-type {\n",
       "        vertical-align: middle;\n",
       "    }\n",
       "\n",
       "    .dataframe tbody tr th {\n",
       "        vertical-align: top;\n",
       "    }\n",
       "\n",
       "    .dataframe thead th {\n",
       "        text-align: right;\n",
       "    }\n",
       "</style>\n",
       "<table border=\"1\" class=\"dataframe\">\n",
       "  <thead>\n",
       "    <tr style=\"text-align: right;\">\n",
       "      <th></th>\n",
       "      <th>0</th>\n",
       "      <th>1</th>\n",
       "      <th>2</th>\n",
       "      <th>3</th>\n",
       "      <th>4</th>\n",
       "      <th>5</th>\n",
       "      <th>6</th>\n",
       "    </tr>\n",
       "  </thead>\n",
       "  <tbody>\n",
       "    <tr>\n",
       "      <th>0</th>\n",
       "      <td>0.082418</td>\n",
       "      <td>-0.442934</td>\n",
       "      <td>0.106569</td>\n",
       "      <td>0.267288</td>\n",
       "      <td>-0.886695</td>\n",
       "      <td>0.732408</td>\n",
       "      <td>-0.972116</td>\n",
       "    </tr>\n",
       "    <tr>\n",
       "      <th>1</th>\n",
       "      <td>2.257264</td>\n",
       "      <td>0.515584</td>\n",
       "      <td>0.021800</td>\n",
       "      <td>0.736013</td>\n",
       "      <td>1.026292</td>\n",
       "      <td>0.907172</td>\n",
       "      <td>-3.899011</td>\n",
       "    </tr>\n",
       "    <tr>\n",
       "      <th>2</th>\n",
       "      <td>0.122929</td>\n",
       "      <td>-2.347784</td>\n",
       "      <td>3.647077</td>\n",
       "      <td>-0.737771</td>\n",
       "      <td>-0.653395</td>\n",
       "      <td>1.020622</td>\n",
       "      <td>-2.740920</td>\n",
       "    </tr>\n",
       "    <tr>\n",
       "      <th>3</th>\n",
       "      <td>0.083148</td>\n",
       "      <td>-0.096931</td>\n",
       "      <td>0.380690</td>\n",
       "      <td>-0.099753</td>\n",
       "      <td>1.289424</td>\n",
       "      <td>0.759575</td>\n",
       "      <td>-2.950420</td>\n",
       "    </tr>\n",
       "    <tr>\n",
       "      <th>4</th>\n",
       "      <td>0.553642</td>\n",
       "      <td>2.524527</td>\n",
       "      <td>0.081399</td>\n",
       "      <td>0.336847</td>\n",
       "      <td>0.259980</td>\n",
       "      <td>-0.183818</td>\n",
       "      <td>0.415178</td>\n",
       "    </tr>\n",
       "    <tr>\n",
       "      <th>...</th>\n",
       "      <td>...</td>\n",
       "      <td>...</td>\n",
       "      <td>...</td>\n",
       "      <td>...</td>\n",
       "      <td>...</td>\n",
       "      <td>...</td>\n",
       "      <td>...</td>\n",
       "    </tr>\n",
       "    <tr>\n",
       "      <th>95</th>\n",
       "      <td>1.579180</td>\n",
       "      <td>1.728819</td>\n",
       "      <td>-2.102017</td>\n",
       "      <td>0.425070</td>\n",
       "      <td>0.832215</td>\n",
       "      <td>1.139172</td>\n",
       "      <td>-0.213899</td>\n",
       "    </tr>\n",
       "    <tr>\n",
       "      <th>96</th>\n",
       "      <td>-0.807288</td>\n",
       "      <td>1.962499</td>\n",
       "      <td>-1.373740</td>\n",
       "      <td>0.492752</td>\n",
       "      <td>0.790020</td>\n",
       "      <td>0.652358</td>\n",
       "      <td>-0.961520</td>\n",
       "    </tr>\n",
       "    <tr>\n",
       "      <th>97</th>\n",
       "      <td>-0.759019</td>\n",
       "      <td>1.425362</td>\n",
       "      <td>1.184170</td>\n",
       "      <td>1.159831</td>\n",
       "      <td>-2.548507</td>\n",
       "      <td>-2.105418</td>\n",
       "      <td>1.305250</td>\n",
       "    </tr>\n",
       "    <tr>\n",
       "      <th>98</th>\n",
       "      <td>-0.118265</td>\n",
       "      <td>0.784825</td>\n",
       "      <td>2.163962</td>\n",
       "      <td>-0.307318</td>\n",
       "      <td>1.091186</td>\n",
       "      <td>-0.708016</td>\n",
       "      <td>-0.106014</td>\n",
       "    </tr>\n",
       "    <tr>\n",
       "      <th>99</th>\n",
       "      <td>0.449991</td>\n",
       "      <td>0.062312</td>\n",
       "      <td>-1.464050</td>\n",
       "      <td>-0.171013</td>\n",
       "      <td>-0.963646</td>\n",
       "      <td>-1.993577</td>\n",
       "      <td>-1.117777</td>\n",
       "    </tr>\n",
       "  </tbody>\n",
       "</table>\n",
       "<p>100 rows × 7 columns</p>\n",
       "</div>"
      ],
      "text/plain": [
       "           0         1         2         3         4         5         6\n",
       "0   0.082418 -0.442934  0.106569  0.267288 -0.886695  0.732408 -0.972116\n",
       "1   2.257264  0.515584  0.021800  0.736013  1.026292  0.907172 -3.899011\n",
       "2   0.122929 -2.347784  3.647077 -0.737771 -0.653395  1.020622 -2.740920\n",
       "3   0.083148 -0.096931  0.380690 -0.099753  1.289424  0.759575 -2.950420\n",
       "4   0.553642  2.524527  0.081399  0.336847  0.259980 -0.183818  0.415178\n",
       "..       ...       ...       ...       ...       ...       ...       ...\n",
       "95  1.579180  1.728819 -2.102017  0.425070  0.832215  1.139172 -0.213899\n",
       "96 -0.807288  1.962499 -1.373740  0.492752  0.790020  0.652358 -0.961520\n",
       "97 -0.759019  1.425362  1.184170  1.159831 -2.548507 -2.105418  1.305250\n",
       "98 -0.118265  0.784825  2.163962 -0.307318  1.091186 -0.708016 -0.106014\n",
       "99  0.449991  0.062312 -1.464050 -0.171013 -0.963646 -1.993577 -1.117777\n",
       "\n",
       "[100 rows x 7 columns]"
      ]
     },
     "execution_count": 62,
     "metadata": {},
     "output_type": "execute_result"
    }
   ],
   "source": [
    "random_df = pd.DataFrame(rand_array)\n",
    "random_df"
   ]
  },
  {
   "cell_type": "code",
   "execution_count": 63,
   "metadata": {},
   "outputs": [],
   "source": [
    "#checking the generated data \n",
    "final_df = pd.concat([feature_df, random_df], axis=1)\n",
    "final_df['class'] = class_array"
   ]
  },
  {
   "cell_type": "code",
   "execution_count": 64,
   "metadata": {},
   "outputs": [
    {
     "data": {
      "text/html": [
       "<div>\n",
       "<style scoped>\n",
       "    .dataframe tbody tr th:only-of-type {\n",
       "        vertical-align: middle;\n",
       "    }\n",
       "\n",
       "    .dataframe tbody tr th {\n",
       "        vertical-align: top;\n",
       "    }\n",
       "\n",
       "    .dataframe thead th {\n",
       "        text-align: right;\n",
       "    }\n",
       "</style>\n",
       "<table border=\"1\" class=\"dataframe\">\n",
       "  <thead>\n",
       "    <tr style=\"text-align: right;\">\n",
       "      <th></th>\n",
       "      <th>0</th>\n",
       "      <th>1</th>\n",
       "      <th>2</th>\n",
       "      <th>0</th>\n",
       "      <th>1</th>\n",
       "      <th>2</th>\n",
       "      <th>3</th>\n",
       "      <th>4</th>\n",
       "      <th>5</th>\n",
       "      <th>6</th>\n",
       "      <th>class</th>\n",
       "    </tr>\n",
       "  </thead>\n",
       "  <tbody>\n",
       "    <tr>\n",
       "      <th>0</th>\n",
       "      <td>0</td>\n",
       "      <td>0</td>\n",
       "      <td>1</td>\n",
       "      <td>0.082418</td>\n",
       "      <td>-0.442934</td>\n",
       "      <td>0.106569</td>\n",
       "      <td>0.267288</td>\n",
       "      <td>-0.886695</td>\n",
       "      <td>0.732408</td>\n",
       "      <td>-0.972116</td>\n",
       "      <td>2</td>\n",
       "    </tr>\n",
       "    <tr>\n",
       "      <th>1</th>\n",
       "      <td>0</td>\n",
       "      <td>0</td>\n",
       "      <td>1</td>\n",
       "      <td>2.257264</td>\n",
       "      <td>0.515584</td>\n",
       "      <td>0.021800</td>\n",
       "      <td>0.736013</td>\n",
       "      <td>1.026292</td>\n",
       "      <td>0.907172</td>\n",
       "      <td>-3.899011</td>\n",
       "      <td>2</td>\n",
       "    </tr>\n",
       "    <tr>\n",
       "      <th>2</th>\n",
       "      <td>0</td>\n",
       "      <td>0</td>\n",
       "      <td>1</td>\n",
       "      <td>0.122929</td>\n",
       "      <td>-2.347784</td>\n",
       "      <td>3.647077</td>\n",
       "      <td>-0.737771</td>\n",
       "      <td>-0.653395</td>\n",
       "      <td>1.020622</td>\n",
       "      <td>-2.740920</td>\n",
       "      <td>2</td>\n",
       "    </tr>\n",
       "    <tr>\n",
       "      <th>3</th>\n",
       "      <td>1</td>\n",
       "      <td>0</td>\n",
       "      <td>0</td>\n",
       "      <td>0.083148</td>\n",
       "      <td>-0.096931</td>\n",
       "      <td>0.380690</td>\n",
       "      <td>-0.099753</td>\n",
       "      <td>1.289424</td>\n",
       "      <td>0.759575</td>\n",
       "      <td>-2.950420</td>\n",
       "      <td>0</td>\n",
       "    </tr>\n",
       "    <tr>\n",
       "      <th>4</th>\n",
       "      <td>0</td>\n",
       "      <td>1</td>\n",
       "      <td>0</td>\n",
       "      <td>0.553642</td>\n",
       "      <td>2.524527</td>\n",
       "      <td>0.081399</td>\n",
       "      <td>0.336847</td>\n",
       "      <td>0.259980</td>\n",
       "      <td>-0.183818</td>\n",
       "      <td>0.415178</td>\n",
       "      <td>1</td>\n",
       "    </tr>\n",
       "    <tr>\n",
       "      <th>...</th>\n",
       "      <td>...</td>\n",
       "      <td>...</td>\n",
       "      <td>...</td>\n",
       "      <td>...</td>\n",
       "      <td>...</td>\n",
       "      <td>...</td>\n",
       "      <td>...</td>\n",
       "      <td>...</td>\n",
       "      <td>...</td>\n",
       "      <td>...</td>\n",
       "      <td>...</td>\n",
       "    </tr>\n",
       "    <tr>\n",
       "      <th>95</th>\n",
       "      <td>0</td>\n",
       "      <td>0</td>\n",
       "      <td>1</td>\n",
       "      <td>1.579180</td>\n",
       "      <td>1.728819</td>\n",
       "      <td>-2.102017</td>\n",
       "      <td>0.425070</td>\n",
       "      <td>0.832215</td>\n",
       "      <td>1.139172</td>\n",
       "      <td>-0.213899</td>\n",
       "      <td>2</td>\n",
       "    </tr>\n",
       "    <tr>\n",
       "      <th>96</th>\n",
       "      <td>1</td>\n",
       "      <td>0</td>\n",
       "      <td>0</td>\n",
       "      <td>-0.807288</td>\n",
       "      <td>1.962499</td>\n",
       "      <td>-1.373740</td>\n",
       "      <td>0.492752</td>\n",
       "      <td>0.790020</td>\n",
       "      <td>0.652358</td>\n",
       "      <td>-0.961520</td>\n",
       "      <td>0</td>\n",
       "    </tr>\n",
       "    <tr>\n",
       "      <th>97</th>\n",
       "      <td>0</td>\n",
       "      <td>1</td>\n",
       "      <td>0</td>\n",
       "      <td>-0.759019</td>\n",
       "      <td>1.425362</td>\n",
       "      <td>1.184170</td>\n",
       "      <td>1.159831</td>\n",
       "      <td>-2.548507</td>\n",
       "      <td>-2.105418</td>\n",
       "      <td>1.305250</td>\n",
       "      <td>1</td>\n",
       "    </tr>\n",
       "    <tr>\n",
       "      <th>98</th>\n",
       "      <td>0</td>\n",
       "      <td>0</td>\n",
       "      <td>1</td>\n",
       "      <td>-0.118265</td>\n",
       "      <td>0.784825</td>\n",
       "      <td>2.163962</td>\n",
       "      <td>-0.307318</td>\n",
       "      <td>1.091186</td>\n",
       "      <td>-0.708016</td>\n",
       "      <td>-0.106014</td>\n",
       "      <td>2</td>\n",
       "    </tr>\n",
       "    <tr>\n",
       "      <th>99</th>\n",
       "      <td>0</td>\n",
       "      <td>1</td>\n",
       "      <td>0</td>\n",
       "      <td>0.449991</td>\n",
       "      <td>0.062312</td>\n",
       "      <td>-1.464050</td>\n",
       "      <td>-0.171013</td>\n",
       "      <td>-0.963646</td>\n",
       "      <td>-1.993577</td>\n",
       "      <td>-1.117777</td>\n",
       "      <td>1</td>\n",
       "    </tr>\n",
       "  </tbody>\n",
       "</table>\n",
       "<p>100 rows × 11 columns</p>\n",
       "</div>"
      ],
      "text/plain": [
       "    0  1  2         0         1         2         3         4         5  \\\n",
       "0   0  0  1  0.082418 -0.442934  0.106569  0.267288 -0.886695  0.732408   \n",
       "1   0  0  1  2.257264  0.515584  0.021800  0.736013  1.026292  0.907172   \n",
       "2   0  0  1  0.122929 -2.347784  3.647077 -0.737771 -0.653395  1.020622   \n",
       "3   1  0  0  0.083148 -0.096931  0.380690 -0.099753  1.289424  0.759575   \n",
       "4   0  1  0  0.553642  2.524527  0.081399  0.336847  0.259980 -0.183818   \n",
       ".. .. .. ..       ...       ...       ...       ...       ...       ...   \n",
       "95  0  0  1  1.579180  1.728819 -2.102017  0.425070  0.832215  1.139172   \n",
       "96  1  0  0 -0.807288  1.962499 -1.373740  0.492752  0.790020  0.652358   \n",
       "97  0  1  0 -0.759019  1.425362  1.184170  1.159831 -2.548507 -2.105418   \n",
       "98  0  0  1 -0.118265  0.784825  2.163962 -0.307318  1.091186 -0.708016   \n",
       "99  0  1  0  0.449991  0.062312 -1.464050 -0.171013 -0.963646 -1.993577   \n",
       "\n",
       "           6  class  \n",
       "0  -0.972116      2  \n",
       "1  -3.899011      2  \n",
       "2  -2.740920      2  \n",
       "3  -2.950420      0  \n",
       "4   0.415178      1  \n",
       "..       ...    ...  \n",
       "95 -0.213899      2  \n",
       "96 -0.961520      0  \n",
       "97  1.305250      1  \n",
       "98 -0.106014      2  \n",
       "99 -1.117777      1  \n",
       "\n",
       "[100 rows x 11 columns]"
      ]
     },
     "execution_count": 64,
     "metadata": {},
     "output_type": "execute_result"
    }
   ],
   "source": [
    "final_df"
   ]
  },
  {
   "cell_type": "code",
   "execution_count": 65,
   "metadata": {},
   "outputs": [
    {
     "data": {
      "text/plain": [
       "array([2, 0, 1])"
      ]
     },
     "execution_count": 65,
     "metadata": {},
     "output_type": "execute_result"
    }
   ],
   "source": [
    "final_df['class'].unique()\n"
   ]
  },
  {
   "cell_type": "code",
   "execution_count": 75,
   "metadata": {},
   "outputs": [],
   "source": [
    "from sklearn.model_selection import train_test_split\n",
    "from sklearn.feature_selection import VarianceThreshold"
   ]
  },
  {
   "cell_type": "code",
   "execution_count": 77,
   "metadata": {},
   "outputs": [],
   "source": [
    "#removing duplicate features - random features might have duplicate or repeated features\n",
    "train_features, test_features, train_labels, test_labels = train_test_split(final_df.drop(final_df.columns[[3,4,5,6,7,8,9,10 ]], axis=1),\n",
    "    final_df['class'],\n",
    "    test_size=0.2,\n",
    "    random_state=41)"
   ]
  },
  {
   "cell_type": "code",
   "execution_count": 78,
   "metadata": {},
   "outputs": [
    {
     "data": {
      "text/plain": [
       "(0, 80)"
      ]
     },
     "execution_count": 78,
     "metadata": {},
     "output_type": "execute_result"
    }
   ],
   "source": [
    "train_features_T = train_features.T\n",
    "train_features_T.shape"
   ]
  },
  {
   "cell_type": "code",
   "execution_count": 79,
   "metadata": {},
   "outputs": [
    {
     "name": "stdout",
     "output_type": "stream",
     "text": [
      "0\n"
     ]
    }
   ],
   "source": [
    "print(train_features_T.duplicated().sum())"
   ]
  },
  {
   "cell_type": "code",
   "execution_count": 80,
   "metadata": {},
   "outputs": [],
   "source": [
    "unique_features = train_features_T.drop_duplicates(keep='first').T"
   ]
  },
  {
   "cell_type": "code",
   "execution_count": 81,
   "metadata": {},
   "outputs": [
    {
     "data": {
      "text/plain": [
       "(80, 0)"
      ]
     },
     "execution_count": 81,
     "metadata": {},
     "output_type": "execute_result"
    }
   ],
   "source": [
    "unique_features.shape"
   ]
  },
  {
   "cell_type": "code",
   "execution_count": 82,
   "metadata": {},
   "outputs": [
    {
     "data": {
      "text/plain": [
       "[]"
      ]
     },
     "execution_count": 82,
     "metadata": {},
     "output_type": "execute_result"
    }
   ],
   "source": [
    "duplicated_features = [dup_col for dup_col in train_features.columns if dup_col not in unique_features.columns]\n",
    "duplicated_features"
   ]
  },
  {
   "cell_type": "code",
   "execution_count": 85,
   "metadata": {},
   "outputs": [],
   "source": [
    "#removing correlated features\n",
    "num_colums = ['int16', 'int32', 'int64', 'float16', 'float32', 'float64']\n",
    "numerical_columns = list(final_df.select_dtypes(include=num_colums).columns)\n",
    "final_df = final_df[numerical_columns]"
   ]
  },
  {
   "cell_type": "code",
   "execution_count": 86,
   "metadata": {},
   "outputs": [
    {
     "data": {
      "text/plain": [
       "(100, 11)"
      ]
     },
     "execution_count": 86,
     "metadata": {},
     "output_type": "execute_result"
    }
   ],
   "source": [
    "final_df.shape"
   ]
  },
  {
   "cell_type": "code",
   "execution_count": 108,
   "metadata": {},
   "outputs": [],
   "source": [
    "train_features, test_features, train_labels, test_labels = train_test_split(\n",
    "    final_df.drop(final_df.columns[[3,4,5,6,7,8,9,10]], axis=1),\n",
    "    final_df['class'],\n",
    "    test_size=0.2,\n",
    "    random_state=41)"
   ]
  },
  {
   "cell_type": "code",
   "execution_count": 109,
   "metadata": {},
   "outputs": [],
   "source": [
    "correlated_features = set()\n",
    "correlation_matrix = final_df.corr()"
   ]
  },
  {
   "cell_type": "code",
   "execution_count": 110,
   "metadata": {},
   "outputs": [],
   "source": [
    "for i in range(len(correlation_matrix .columns)):\n",
    "    for j in range(i):\n",
    "        if abs(correlation_matrix.iloc[i, j]) > 0.8:\n",
    "            colname = correlation_matrix.columns[i]\n",
    "            correlated_features.add(colname)"
   ]
  },
  {
   "cell_type": "code",
   "execution_count": 111,
   "metadata": {},
   "outputs": [
    {
     "data": {
      "text/plain": [
       "1"
      ]
     },
     "execution_count": 111,
     "metadata": {},
     "output_type": "execute_result"
    }
   ],
   "source": [
    "len(correlated_features)"
   ]
  },
  {
   "cell_type": "code",
   "execution_count": 112,
   "metadata": {},
   "outputs": [
    {
     "name": "stdout",
     "output_type": "stream",
     "text": [
      "{'class'}\n"
     ]
    }
   ],
   "source": [
    "print(correlated_features)"
   ]
  },
  {
   "cell_type": "code",
   "execution_count": null,
   "metadata": {},
   "outputs": [],
   "source": [
    "#as the class feature is important for the classification of classes. not removing it."
   ]
  },
  {
   "cell_type": "code",
   "execution_count": 92,
   "metadata": {},
   "outputs": [
    {
     "data": {
      "text/plain": [
       "0        0\n",
       "0        0\n",
       "1        0\n",
       "1        0\n",
       "2        0\n",
       "2        0\n",
       "3        0\n",
       "4        0\n",
       "5        0\n",
       "6        0\n",
       "class    0\n",
       "dtype: int64"
      ]
     },
     "execution_count": 92,
     "metadata": {},
     "output_type": "execute_result"
    }
   ],
   "source": [
    "final_df.isnull().sum()"
   ]
  },
  {
   "cell_type": "code",
   "execution_count": 93,
   "metadata": {},
   "outputs": [
    {
     "ename": "KeyError",
     "evalue": "'0'",
     "output_type": "error",
     "traceback": [
      "\u001b[0;31m---------------------------------------------------------------------------\u001b[0m",
      "\u001b[0;31mKeyError\u001b[0m                                  Traceback (most recent call last)",
      "File \u001b[0;32m~/opt/anaconda3/lib/python3.9/site-packages/pandas/core/indexes/base.py:3621\u001b[0m, in \u001b[0;36mIndex.get_loc\u001b[0;34m(self, key, method, tolerance)\u001b[0m\n\u001b[1;32m   3620\u001b[0m \u001b[39mtry\u001b[39;00m:\n\u001b[0;32m-> 3621\u001b[0m     \u001b[39mreturn\u001b[39;00m \u001b[39mself\u001b[39;49m\u001b[39m.\u001b[39;49m_engine\u001b[39m.\u001b[39;49mget_loc(casted_key)\n\u001b[1;32m   3622\u001b[0m \u001b[39mexcept\u001b[39;00m \u001b[39mKeyError\u001b[39;00m \u001b[39mas\u001b[39;00m err:\n",
      "File \u001b[0;32m~/opt/anaconda3/lib/python3.9/site-packages/pandas/_libs/index.pyx:136\u001b[0m, in \u001b[0;36mpandas._libs.index.IndexEngine.get_loc\u001b[0;34m()\u001b[0m\n",
      "File \u001b[0;32m~/opt/anaconda3/lib/python3.9/site-packages/pandas/_libs/index.pyx:160\u001b[0m, in \u001b[0;36mpandas._libs.index.IndexEngine.get_loc\u001b[0;34m()\u001b[0m\n",
      "File \u001b[0;32m~/opt/anaconda3/lib/python3.9/site-packages/pandas/_libs/index.pyx:201\u001b[0m, in \u001b[0;36mpandas._libs.index.IndexEngine._get_loc_duplicates\u001b[0;34m()\u001b[0m\n",
      "File \u001b[0;32m~/opt/anaconda3/lib/python3.9/site-packages/pandas/_libs/index.pyx:209\u001b[0m, in \u001b[0;36mpandas._libs.index.IndexEngine._maybe_get_bool_indexer\u001b[0;34m()\u001b[0m\n",
      "File \u001b[0;32m~/opt/anaconda3/lib/python3.9/site-packages/pandas/_libs/index.pyx:107\u001b[0m, in \u001b[0;36mpandas._libs.index._unpack_bool_indexer\u001b[0;34m()\u001b[0m\n",
      "\u001b[0;31mKeyError\u001b[0m: '0'",
      "\nThe above exception was the direct cause of the following exception:\n",
      "\u001b[0;31mKeyError\u001b[0m                                  Traceback (most recent call last)",
      "\u001b[1;32m/Users/bhuvanavenkatappa/Documents/SL/sim_data.ipynb Cell 26\u001b[0m in \u001b[0;36m<cell line: 5>\u001b[0;34m()\u001b[0m\n\u001b[1;32m      <a href='vscode-notebook-cell:/Users/bhuvanavenkatappa/Documents/SL/sim_data.ipynb#X62sZmlsZQ%3D%3D?line=2'>3</a>\u001b[0m fig \u001b[39m=\u001b[39m plt\u001b[39m.\u001b[39mfigure(figsize\u001b[39m=\u001b[39m(\u001b[39m6\u001b[39m,\u001b[39m6\u001b[39m))\n\u001b[1;32m      <a href='vscode-notebook-cell:/Users/bhuvanavenkatappa/Documents/SL/sim_data.ipynb#X62sZmlsZQ%3D%3D?line=3'>4</a>\u001b[0m ax \u001b[39m=\u001b[39m fig\u001b[39m.\u001b[39madd_subplot(\u001b[39m111\u001b[39m, projection \u001b[39m=\u001b[39m \u001b[39m'\u001b[39m\u001b[39m3d\u001b[39m\u001b[39m'\u001b[39m)\n\u001b[0;32m----> <a href='vscode-notebook-cell:/Users/bhuvanavenkatappa/Documents/SL/sim_data.ipynb#X62sZmlsZQ%3D%3D?line=4'>5</a>\u001b[0m ax\u001b[39m.\u001b[39mscatter(X[\u001b[39m'\u001b[39;49m\u001b[39m0\u001b[39;49m\u001b[39m'\u001b[39;49m], X[\u001b[39m'\u001b[39m\u001b[39m1\u001b[39m\u001b[39m'\u001b[39m], X[\u001b[39m'\u001b[39m\u001b[39m2\u001b[39m\u001b[39m'\u001b[39m], c \u001b[39m=\u001b[39m Y, marker \u001b[39m=\u001b[39m \u001b[39m'\u001b[39m\u001b[39m.\u001b[39m\u001b[39m'\u001b[39m, s\u001b[39m=\u001b[39m\u001b[39m100\u001b[39m)\n\u001b[1;32m      <a href='vscode-notebook-cell:/Users/bhuvanavenkatappa/Documents/SL/sim_data.ipynb#X62sZmlsZQ%3D%3D?line=5'>6</a>\u001b[0m ax\u001b[39m.\u001b[39mset_xlabel(\u001b[39m'\u001b[39m\u001b[39m0\u001b[39m\u001b[39m'\u001b[39m)\n\u001b[1;32m      <a href='vscode-notebook-cell:/Users/bhuvanavenkatappa/Documents/SL/sim_data.ipynb#X62sZmlsZQ%3D%3D?line=6'>7</a>\u001b[0m ax\u001b[39m.\u001b[39mset_ylabel(\u001b[39m'\u001b[39m\u001b[39m1\u001b[39m\u001b[39m'\u001b[39m)\n",
      "File \u001b[0;32m~/opt/anaconda3/lib/python3.9/site-packages/pandas/core/frame.py:3505\u001b[0m, in \u001b[0;36mDataFrame.__getitem__\u001b[0;34m(self, key)\u001b[0m\n\u001b[1;32m   3503\u001b[0m \u001b[39mif\u001b[39;00m \u001b[39mself\u001b[39m\u001b[39m.\u001b[39mcolumns\u001b[39m.\u001b[39mnlevels \u001b[39m>\u001b[39m \u001b[39m1\u001b[39m:\n\u001b[1;32m   3504\u001b[0m     \u001b[39mreturn\u001b[39;00m \u001b[39mself\u001b[39m\u001b[39m.\u001b[39m_getitem_multilevel(key)\n\u001b[0;32m-> 3505\u001b[0m indexer \u001b[39m=\u001b[39m \u001b[39mself\u001b[39;49m\u001b[39m.\u001b[39;49mcolumns\u001b[39m.\u001b[39;49mget_loc(key)\n\u001b[1;32m   3506\u001b[0m \u001b[39mif\u001b[39;00m is_integer(indexer):\n\u001b[1;32m   3507\u001b[0m     indexer \u001b[39m=\u001b[39m [indexer]\n",
      "File \u001b[0;32m~/opt/anaconda3/lib/python3.9/site-packages/pandas/core/indexes/base.py:3623\u001b[0m, in \u001b[0;36mIndex.get_loc\u001b[0;34m(self, key, method, tolerance)\u001b[0m\n\u001b[1;32m   3621\u001b[0m     \u001b[39mreturn\u001b[39;00m \u001b[39mself\u001b[39m\u001b[39m.\u001b[39m_engine\u001b[39m.\u001b[39mget_loc(casted_key)\n\u001b[1;32m   3622\u001b[0m \u001b[39mexcept\u001b[39;00m \u001b[39mKeyError\u001b[39;00m \u001b[39mas\u001b[39;00m err:\n\u001b[0;32m-> 3623\u001b[0m     \u001b[39mraise\u001b[39;00m \u001b[39mKeyError\u001b[39;00m(key) \u001b[39mfrom\u001b[39;00m \u001b[39merr\u001b[39;00m\n\u001b[1;32m   3624\u001b[0m \u001b[39mexcept\u001b[39;00m \u001b[39mTypeError\u001b[39;00m:\n\u001b[1;32m   3625\u001b[0m     \u001b[39m# If we have a listlike key, _check_indexing_error will raise\u001b[39;00m\n\u001b[1;32m   3626\u001b[0m     \u001b[39m#  InvalidIndexError. Otherwise we fall through and re-raise\u001b[39;00m\n\u001b[1;32m   3627\u001b[0m     \u001b[39m#  the TypeError.\u001b[39;00m\n\u001b[1;32m   3628\u001b[0m     \u001b[39mself\u001b[39m\u001b[39m.\u001b[39m_check_indexing_error(key)\n",
      "\u001b[0;31mKeyError\u001b[0m: '0'"
     ]
    },
    {
     "data": {
      "image/png": "[encoded data removed]",
      "text/plain": [
       "<Figure size 432x432 with 1 Axes>"
      ]
     },
     "metadata": {
      "needs_background": "light"
     },
     "output_type": "display_data"
    }
   ],
   "source": [
    "X = final_df.iloc[:,1:]\n",
    "Y = final_df['class']\n",
    "fig = plt.figure(figsize=(6,6))\n",
    "ax = fig.add_subplot(111, projection = '3d')\n",
    "ax.scatter(X['0'], X['1'], X['2'], c = Y, marker = '.', s=100)\n",
    "ax.set_xlabel('f1')\n",
    "ax.set_ylabel('f2')\n",
    "ax.set_zlabel('f3')\n",
    "plt.show()"
   ]
  },
  {
   "cell_type": "code",
   "execution_count": null,
   "metadata": {},
   "outputs": [],
   "source": [
    "X = final_df[['width', 'height', 'color_score']]\n",
    "Y = final_df['fruit_label']\n",
    "X_train, X_test, Y_train, Y_test = train_test_split(X, Y, test_size=0.2, random_state=0)"
   ]
  },
  {
   "cell_type": "code",
   "execution_count": null,
   "metadata": {},
   "outputs": [],
   "source": [
    "X_train.head()"
   ]
  },
  {
   "cell_type": "code",
   "execution_count": null,
   "metadata": {},
   "outputs": [],
   "source": [
    "X_train.shape"
   ]
  },
  {
   "cell_type": "code",
   "execution_count": null,
   "metadata": {},
   "outputs": [],
   "source": [
    "Y_train.shape"
   ]
  },
  {
   "cell_type": "code",
   "execution_count": null,
   "metadata": {},
   "outputs": [],
   "source": [
    "X_test"
   ]
  },
  {
   "cell_type": "code",
   "execution_count": null,
   "metadata": {},
   "outputs": [],
   "source": [
    "knn = KNeighborsClassifier(n_neighbors = 5)"
   ]
  },
  {
   "cell_type": "code",
   "execution_count": null,
   "metadata": {},
   "outputs": [],
   "source": [
    "knn.fit(X_train, Y_train)"
   ]
  },
  {
   "cell_type": "code",
   "execution_count": null,
   "metadata": {},
   "outputs": [],
   "source": [
    "## Use the trained KNN classifier to classify a sample in  the testing set\n",
    "sample_test = X_test.iloc[0,:]\n",
    "sample_test"
   ]
  },
  {
   "cell_type": "code",
   "execution_count": null,
   "metadata": {},
   "outputs": [],
   "source": [
    "label_true = Y_test.iloc[0]\n",
    "print('The true label is', label_true, ':', fruit_lable_to_name[label_true])"
   ]
  },
  {
   "cell_type": "code",
   "execution_count": null,
   "metadata": {},
   "outputs": [],
   "source": [
    "label_predicted = knn.predict([sample_test])\n",
    "print('The label predicted by knn is', label_predicted[0], ':', fruit_lable_to_name[label_predicted[0]])\n",
    "if label_predicted[0] == label_true:\n",
    "    print('Classification is accurate for this testing sample')\n",
    "else:\n",
    "    print('Classification is wrong for this testing sample')"
   ]
  },
  {
   "cell_type": "code",
   "execution_count": null,
   "metadata": {},
   "outputs": [],
   "source": [
    "# Use the trained k-NN classifier to classify a sample that is not in the training set nor the testing set\n",
    "sample_new = [6.0, 4.0, 0.8]\n",
    "label_predicted = knn.predict([sample_new])\n",
    "print('The label predicted by knn is', label_predicted[0], ':', fruit_lable_to_name[label_predicted[0]])"
   ]
  },
  {
   "cell_type": "code",
   "execution_count": null,
   "metadata": {},
   "outputs": [],
   "source": [
    "# Evaluate Performance of the KNN Classifier on the Training Set and the Testing Set\n",
    "knn.score(X_train, Y_train)"
   ]
  },
  {
   "cell_type": "code",
   "execution_count": null,
   "metadata": {},
   "outputs": [],
   "source": [
    "\n",
    "knn.score(X_test, Y_test)"
   ]
  },
  {
   "cell_type": "code",
   "execution_count": null,
   "metadata": {},
   "outputs": [],
   "source": [
    "#using another method to obtain accuracy\n",
    "Y_train_pred = knn.predict(X_train)\n",
    "accuracy_score(Y_train, Y_train_pred)"
   ]
  },
  {
   "cell_type": "code",
   "execution_count": null,
   "metadata": {},
   "outputs": [],
   "source": [
    "Y_test_pred = knn.predict(X_test)\n",
    "accuracy_score(Y_test, Y_test_pred)"
   ]
  },
  {
   "cell_type": "code",
   "execution_count": null,
   "metadata": {},
   "outputs": [],
   "source": [
    "cm = confusion_matrix(Y_test, Y_test_pred)\n",
    "df_cm = pd.DataFrame(cm, index = ['apple', 'mandarin', 'orange', 'lemon'],\n",
    "                     columns = ['apple', 'mandarin', 'orange', 'lemon'])\n",
    "plt.figure(figsize = (6,6))\n",
    "sn.set(font_scale=1.6)\n",
    "sn.heatmap(df_cm, annot=True, annot_kws={\"size\": 20}, square=True)"
   ]
  },
  {
   "cell_type": "code",
   "execution_count": null,
   "metadata": {},
   "outputs": [],
   "source": [
    "#normalize the confusion matrix\n",
    "df_cm = pd.DataFrame(cm/Y_test.shape[0], index = ['apple', 'mandarin', 'orange', 'lemon'],\n",
    "                     columns = ['apple', 'mandarin', 'orange', 'lemon'])\n",
    "plt.figure(figsize = (6,6))\n",
    "sn.set(font_scale=1.6)\n",
    "sn.heatmap(df_cm, annot=True, annot_kws={\"size\": 20}, square=True)"
   ]
  },
  {
   "cell_type": "markdown",
   "metadata": {},
   "source": [
    "In this case we can see how the mean value of the accurracy increases with a bigger split of the training set."
   ]
  },
  {
   "cell_type": "code",
   "execution_count": null,
   "metadata": {},
   "outputs": [],
   "source": [
    "for i in np.arange(1, 101):\n",
    "\n",
    "    KNN = KNeighborsClassifier(n_neighbors = i)\n",
    "    neigh = np.arange(1,21)\n",
    "    train_accuracy =np.empty(len(neigh))\n",
    "    test_accuracy = np.empty(len(neigh))\n",
    "\n",
    "\n",
    "for i,k in enumerate(neigh):\n",
    "    #Setup a knn classifier with k neighbors\n",
    "    knn = KNeighborsClassifier(n_neighbors=k)\n",
    "    \n",
    "    #Fit the model\n",
    "    knn.fit(X_train, y_train)\n",
    "    \n",
    "    #Compute accuracy on the training set\n",
    "    train_accuracy[i] = knn.score(X_train, y_train)\n",
    "    \n",
    "    #Compute accuracy on the test set\n",
    "    test_accuracy[i] = knn.score(X_test, y_test) \n",
    "\n",
    "    new_predictions = knn.predict(X_test)\n",
    "    error_rates = []\n",
    "    error_rates.append(np.mean(new_predictions != y_test))"
   ]
  },
  {
   "cell_type": "code",
   "execution_count": null,
   "metadata": {},
   "outputs": [],
   "source": [
    "plt.title('k-NN Varying number of neighbors')\n",
    "plt.plot(neigh, test_accuracy, label='Testing Accuracy')\n",
    "plt.plot(neigh, train_accuracy, label='Training accuracy')\n",
    "plt.legend()\n",
    "plt.xlabel('Number of neighbors')\n",
    "plt.ylabel('Accuracy')\n",
    "plt.show()\n"
   ]
  },
  {
   "cell_type": "code",
   "execution_count": null,
   "metadata": {},
   "outputs": [],
   "source": [
    "plt.plot(error_rates)"
   ]
  },
  {
   "cell_type": "code",
   "execution_count": null,
   "metadata": {},
   "outputs": [],
   "source": [
    "neigh = KNeighborsClassifier(n_neighbors=10)\n",
    "neigh.fit(X_train, y_train)"
   ]
  },
  {
   "cell_type": "code",
   "execution_count": null,
   "metadata": {},
   "outputs": [],
   "source": [
    "y_pred = neigh.predict(X_test)\n",
    "y_pred"
   ]
  },
  {
   "cell_type": "code",
   "execution_count": null,
   "metadata": {},
   "outputs": [],
   "source": [
    "accuracy_score(y_test,y_pred)"
   ]
  },
  {
   "cell_type": "code",
   "execution_count": null,
   "metadata": {},
   "outputs": [],
   "source": [
    "accuracy = accuracy_score(y_test, y_pred)*100\n",
    "print('Accuracy of our model is equal ' + str(round(accuracy, 2)) + ' %.')"
   ]
  },
  {
   "cell_type": "code",
   "execution_count": null,
   "metadata": {},
   "outputs": [],
   "source": []
  },
  {
   "cell_type": "code",
   "execution_count": null,
   "metadata": {},
   "outputs": [],
   "source": []
  },
  {
   "cell_type": "markdown",
   "metadata": {},
   "source": [
    "##### Performing Feature normalization: scaling the feature in the range of 0 to 1"
   ]
  },
  {
   "cell_type": "code",
   "execution_count": null,
   "metadata": {},
   "outputs": [],
   "source": [
    "X = fruits[['WdH', 'color_score']]\n",
    "Y = fruits['fruit_label']\n",
    "#random split with a fixed percent for testing: 20%\n",
    "X_train, X_test, Y_train, Y_test = train_test_split(X, Y, test_size=0.2, random_state=0)           \n",
    "# build a minmax transformer\n",
    "scaler = MinMaxScaler()\n",
    "# Fit to data, then transform it.\n",
    "X_train = scaler.fit_transform(X_train)\n",
    "# we must apply the same scaling to the test set\n",
    "X_test = scaler.transform(X_test)\n",
    "# build a KNN classifier    \n",
    "knn = KNeighborsClassifier(n_neighbors = 5)\n",
    "# train the KNN classifier\n",
    "knn.fit(X_train, Y_train)\n",
    "# test the KNN classifier\n",
    "acc_train=knn.score(X_train, Y_train)\n",
    "acc_test=knn.score(X_test, Y_test)    \n",
    "print('training accuracy=', acc_train)\n",
    "print('testing accuracy=',  acc_test)"
   ]
  },
  {
   "cell_type": "code",
   "execution_count": null,
   "metadata": {},
   "outputs": [],
   "source": [
    "X = fruits[['width', 'height', 'color_score']]\n",
    "Y = fruits['fruit_label']\n",
    "#random split with a fixed percent for testing: 20%\n",
    "X_train, X_test, Y_train, Y_test = train_test_split(X, Y, test_size=0.2, random_state=1)\n",
    "# build a minmax transformer\n",
    "scaler = MinMaxScaler()\n",
    "# Fit to data, then transform it.\n",
    "X_train = scaler.fit_transform(X_train)\n",
    "# we must apply the same scaling to the test set\n",
    "X_test = scaler.transform(X_test)\n",
    "# build a KNN classifier    \n",
    "knn = KNeighborsClassifier(n_neighbors = 5)\n",
    "# train the KNN classifier\n",
    "knn.fit(X_train, Y_train)\n",
    "# test the KNN classifier\n",
    "acc_train=knn.score(X_train, Y_train)\n",
    "acc_test=knn.score(X_test, Y_test)    \n",
    "print('training accuracy=', acc_train)\n",
    "print('testing accuracy=',  acc_test)"
   ]
  },
  {
   "cell_type": "markdown",
   "metadata": {},
   "source": [
    "##### Ploting decision boundaries to visualize the classification result"
   ]
  },
  {
   "cell_type": "code",
   "execution_count": null,
   "metadata": {},
   "outputs": [],
   "source": [
    "X = fruits[['WdH', 'color_score']]\n",
    "Y = fruits['fruit_label']\n",
    "#random split with a fixed percent for testing: 20%\n",
    "X_train, X_test, Y_train, Y_test = train_test_split(X, Y, test_size=0.2, random_state=0)    \n",
    "# Fit to data, then transform it.\n",
    "X_train = scaler.fit_transform(X_train)\n",
    "# we must apply the same scaling to the test set\n",
    "X_test = scaler.transform(X_test)\n",
    "# build a KNN classifier    \n",
    "knn = KNeighborsClassifier(n_neighbors = 5)\n",
    "# train the KNN classifier\n",
    "knn.fit(X_train, Y_train)\n",
    "# Plot the decision boundary. For that, we will asign a color to each\n",
    "# point in the mesh [x_min, m_max]x[y_min, y_max].\n",
    "x_min, x_max = X['WdH'].min() - .5, X['WdH'].max() + .5\n",
    "y_min, y_max = 0, 1\n",
    "xx, yy = np.meshgrid(np.arange(x_min, x_max, 0.01), np.arange(y_min, y_max, 0.01))\n",
    "xx_r=xx.reshape(xx.shape[0]*xx.shape[1],1)\n",
    "yy_r=yy.reshape(yy.shape[0]*yy.shape[1],1)\n",
    "xx_yy = np.concatenate([xx_r, yy_r], axis=1)\n",
    "xx_yy = scaler.transform(xx_yy)\n",
    "Z = knn.predict(xx_yy)\n",
    "Z = Z.reshape(xx.shape)\n",
    "# Put the result into a color plot\n",
    "fig, ax = plt.subplots(figsize=(6, 6))\n",
    "ax.pcolormesh(xx, yy, Z,cmap='viridis')\n",
    "sc=ax.scatter(X['WdH'], X['color_score'],c=Y,cmap='viridis', \n",
    "              marker='o',edgecolor = 'black', s=30)\n",
    "ax.set_xlabel('width/height')\n",
    "ax.set_ylabel('color_score')\n",
    "ax.set_aspect('equal')\n",
    "cbar = fig.colorbar(sc, cmap='viridis', ticks=[1, 2, 3, 4])\n",
    "cbar.ax.set_yticklabels(['apple', 'mandarin', 'orange', 'lemon'])"
   ]
  },
  {
   "cell_type": "markdown",
   "metadata": {},
   "source": [
    "Classification report"
   ]
  },
  {
   "cell_type": "code",
   "execution_count": null,
   "metadata": {},
   "outputs": [],
   "source": [
    "#printing out the classification report which is one of the features in Scikit-learn"
   ]
  },
  {
   "cell_type": "code",
   "execution_count": null,
   "metadata": {},
   "outputs": [],
   "source": [
    "print(classification_report(Y_test,Y_test_pred))"
   ]
  },
  {
   "cell_type": "markdown",
   "metadata": {},
   "source": [
    "#Performing cross-validation"
   ]
  },
  {
   "cell_type": "code",
   "execution_count": null,
   "metadata": {},
   "outputs": [],
   "source": [
    "from sklearn.model_selection import GridSearchCV"
   ]
  },
  {
   "cell_type": "code",
   "execution_count": null,
   "metadata": {},
   "outputs": [],
   "source": [
    "#In case of classifier like knn the parameter to be tuned is n_neighbors\n",
    "param_grid = {'n_neighbors':np.arange(1,50)}"
   ]
  },
  {
   "cell_type": "code",
   "execution_count": null,
   "metadata": {},
   "outputs": [],
   "source": [
    "knn = KNeighborsClassifier()\n",
    "knn_cv= GridSearchCV(knn,param_grid,cv=5)\n",
    "knn_cv.fit(X,Y)"
   ]
  },
  {
   "cell_type": "code",
   "execution_count": null,
   "metadata": {},
   "outputs": [],
   "source": [
    "knn_cv.best_score_"
   ]
  },
  {
   "cell_type": "code",
   "execution_count": null,
   "metadata": {},
   "outputs": [],
   "source": [
    "knn_cv.best_params_"
   ]
  },
  {
   "cell_type": "code",
   "execution_count": null,
   "metadata": {},
   "outputs": [],
   "source": []
  }
 ],
 "metadata": {
  "kernelspec": {
   "display_name": "Python 3.9.12 ('base')",
   "language": "python",
   "name": "python3"
  },
  "language_info": {
   "codemirror_mode": {
    "name": "ipython",
    "version": 3
   },
   "file_extension": ".py",
   "mimetype": "text/x-python",
   "name": "python",
   "nbconvert_exporter": "python",
   "pygments_lexer": "ipython3",
   "version": "3.9.12"
  },
  "orig_nbformat": 4,
  "vscode": {
   "interpreter": {
    "hash": "2930fd2eea610a40f5b78c01098c69dd54a8a27471b1efbcd40790f5945abc76"
   }
  }
 },
 "nbformat": 4,
 "nbformat_minor": 2
}
